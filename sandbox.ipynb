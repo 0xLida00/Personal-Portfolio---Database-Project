{
 "cells": [
  {
   "cell_type": "code",
   "execution_count": 1,
   "metadata": {},
   "outputs": [],
   "source": [
    "from datetime import datetime\n",
    "\n",
    "from flask import Flask, flash, render_template, redirect, request, url_for\n",
    "from flask_login import LoginManager, login_user, logout_user, login_required, current_user\n",
    "\n",
    "from models import User, ExternalUser, Project, Skill, Experience, Testimonial, ContactMessage, MessageThread, db\n",
    "\n",
    "app = Flask(__name__)\n",
    "app.config.from_object('config')  # Load configuration from config.py\n",
    "\n",
    "login_manager = LoginManager(app)\n",
    "login_manager.login_view = \"login_page\"\n",
    "\n",
    "with app.app_context():\n",
    "    db.init_app(app)\n",
    "    db.create_all()"
   ]
  },
  {
   "cell_type": "code",
   "execution_count": 2,
   "metadata": {},
   "outputs": [
    {
     "name": "stdout",
     "output_type": "stream",
     "text": [
      "User created successfully.\n"
     ]
    }
   ],
   "source": [
    "# Let's create our first user if not already created\n",
    "with app.app_context():\n",
    "    user = User.query.filter_by(username=\"Lidao\").first()\n",
    "    if not user:\n",
    "        user = User(username=\"Lidao\", role=\"admin\", email=\"rodrigue.betema@gmail.com\", password=\"password\")\n",
    "        db.session.add(user)\n",
    "        db.session.commit()\n",
    "        db.session.refresh(user)\n",
    "    print(\"User created successfully.\")"
   ]
  }
 ],
 "metadata": {
  "kernelspec": {
   "display_name": "venv",
   "language": "python",
   "name": "python3"
  },
  "language_info": {
   "codemirror_mode": {
    "name": "ipython",
    "version": 3
   },
   "file_extension": ".py",
   "mimetype": "text/x-python",
   "name": "python",
   "nbconvert_exporter": "python",
   "pygments_lexer": "ipython3",
   "version": "3.13.0"
  }
 },
 "nbformat": 4,
 "nbformat_minor": 2
}
