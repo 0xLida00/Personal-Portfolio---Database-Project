{
 "cells": [
  {
   "cell_type": "code",
   "execution_count": 1,
   "metadata": {},
   "outputs": [],
   "source": [
    "from datetime import datetime\n",
    "\n",
    "from flask import Flask, flash, render_template, redirect, request, url_for\n",
    "from flask_login import LoginManager, login_user, logout_user, login_required, current_user\n",
    "\n",
    "from models import User, ExternalUser, Project, Skill, Experience, Testimonial, ContactMessage, MessageThread, db\n",
    "\n",
    "app = Flask(__name__)\n",
    "app.config.from_object('config')  # Load configuration from config.py\n",
    "\n",
    "login_manager = LoginManager(app)\n",
    "login_manager.login_view = \"login_page\"\n",
    "\n",
    "with app.app_context():\n",
    "    db.init_app(app)\n",
    "    db.create_all()"
   ]
  },
  {
   "cell_type": "code",
   "execution_count": 2,
   "metadata": {},
   "outputs": [
    {
     "name": "stdout",
     "output_type": "stream",
     "text": [
      "User created successfully.\n"
     ]
    }
   ],
   "source": [
    "# Let's create our first user if not already created\n",
    "with app.app_context():\n",
    "    user = User.query.filter_by(username=\"Lidao\").first()\n",
    "    if not user:\n",
    "        user = User(username=\"Lidao\", role=\"admin\", email=\"rodrigue.betema@gmail.com\", password=\"password\")\n",
    "        db.session.add(user)\n",
    "        db.session.commit()\n",
    "        db.session.refresh(user)\n",
    "    print(\"User created successfully.\")"
   ]
  },
  {
   "cell_type": "code",
   "execution_count": 3,
   "metadata": {},
   "outputs": [
    {
     "name": "stdout",
     "output_type": "stream",
     "text": [
      "Project created successfully.\n"
     ]
    }
   ],
   "source": [
    "# Let's create our first project associated with the user\n",
    "with app.app_context():\n",
    "    user = User.query.filter_by(username=\"Lidao\").first()\n",
    "    if user and user.is_admin():\n",
    "        project = Project(\n",
    "            user_id=user.user_id,  # Associate the project with the user\n",
    "            title=\"Worldsound\",\n",
    "            description=\"This is my first awesome project. It is a full website bult using HTML and CSS. It is great how much we can do with these two technologies.\",\n",
    "            technologies=\"HTML, CSS\",\n",
    "            link=\"https://0xlida00.github.io/worldsound/\")\n",
    "        db.session.add(project)\n",
    "        db.session.commit()\n",
    "        print(\"Project created successfully.\")\n",
    "    else:\n",
    "        print(\"User is not an admin or does not exist. Project creation is not allowed.\")"
   ]
  },
  {
   "cell_type": "code",
   "execution_count": 4,
   "metadata": {},
   "outputs": [
    {
     "name": "stdout",
     "output_type": "stream",
     "text": [
      "Projects created successfully.\n"
     ]
    }
   ],
   "source": [
    "# Let's add 2 more projects associated with the user\n",
    "with app.app_context():\n",
    "    user = User.query.filter_by(username=\"Lidao\").first()\n",
    "    if user and user.is_admin():\n",
    "        project2 = Project(\n",
    "            user_id=user.user_id,  # Associate the project with the user\n",
    "            title=\"Interactive-quiz\",\n",
    "            description=\"This is my second project. It is an interactive quiz app buolt using JavaScript, HTML and Css.\",\n",
    "            technologies=\"JavaScript, HTML, CSS\",\n",
    "            link=\"https://0xlida00.github.io/interactive-quiz/\"\n",
    "        )\n",
    "        \n",
    "        project3 = Project(\n",
    "            user_id=user.user_id,  # Associate the project with the user\n",
    "            title=\"E-commerce-store\",\n",
    "            description=\"This is my third project. It an e-commerce store website built using Python, jinja2, JavaScript, HTML and CSS.\",\n",
    "            technologies=\"Python, Jinja2, JavaScript, HTML, CSS\",\n",
    "            link=\"https://e-commerce-store-odta.onrender.com/\"\n",
    "        )\n",
    "        \n",
    "        db.session.add(project2)\n",
    "        db.session.add(project3)\n",
    "        db.session.commit()\n",
    "        print(\"Projects created successfully.\")\n",
    "    else:\n",
    "        print(\"User is not an admin or does not exist. Project creation is not allowed.\")"
   ]
  },
  {
   "cell_type": "code",
   "execution_count": 5,
   "metadata": {},
   "outputs": [
    {
     "name": "stdout",
     "output_type": "stream",
     "text": [
      "Visitor user created successfully.\n"
     ]
    }
   ],
   "source": [
    "# Let's create another user if not already created\n",
    "with app.app_context():\n",
    "    user = User.query.filter_by(username=\"John\").first()\n",
    "    if not user:\n",
    "        user = User(username=\"John\", first_name=\"Mike\", role=\"visitor\", email=\"john@example.com\", password=\"password\")\n",
    "        db.session.add(user)\n",
    "        db.session.commit()\n",
    "        db.session.refresh(user)\n",
    "    print(\"Visitor user created successfully.\")"
   ]
  },
  {
   "cell_type": "code",
   "execution_count": 6,
   "metadata": {},
   "outputs": [
    {
     "name": "stdout",
     "output_type": "stream",
     "text": [
      "Visitor user created successfully.\n"
     ]
    }
   ],
   "source": [
    "# Let's create another user if not already created\n",
    "with app.app_context():\n",
    "    user = User.query.filter_by(username=\"Frank\").first()\n",
    "    if not user:\n",
    "        user = User(username=\"Frank\", role=\"visitor\", email=\"frank@example.com\", password=\"password\")\n",
    "        db.session.add(user)\n",
    "        db.session.commit()\n",
    "        db.session.refresh(user)\n",
    "    print(\"Visitor user created successfully.\")"
   ]
  },
  {
   "cell_type": "code",
   "execution_count": 7,
   "metadata": {},
   "outputs": [
    {
     "name": "stdout",
     "output_type": "stream",
     "text": [
      "Visitor user created successfully.\n"
     ]
    }
   ],
   "source": [
    "# Let's create another user if not already created\n",
    "with app.app_context():\n",
    "    user = User.query.filter_by(username=\"Roland\").first()\n",
    "    if not user:\n",
    "        user = User(username=\"Roland\", role=\"visitor\", email=\"roland@example.com\", password=\"password\")\n",
    "        db.session.add(user)\n",
    "        db.session.commit()\n",
    "        db.session.refresh(user)\n",
    "    print(\"Visitor user created successfully.\")"
   ]
  },
  {
   "cell_type": "code",
   "execution_count": 8,
   "metadata": {},
   "outputs": [
    {
     "name": "stdout",
     "output_type": "stream",
     "text": [
      "Error: (sqlite3.IntegrityError) UNIQUE constraint failed: users.email\n",
      "[SQL: INSERT INTO users (username, first_name, last_name, email, created_at, role, active, password) VALUES (?, ?, ?, ?, ?, ?, ?, ?)]\n",
      "[parameters: ('John', None, None, 'john@example.com', '2024-11-30 11:51:19.550750', 'visitor', 1, 'password')]\n",
      "(Background on this error at: https://sqlalche.me/e/20/gkpj)\n"
     ]
    }
   ],
   "source": [
    "# Let's attempt to create another user with the same username or email\n",
    "with app.app_context():\n",
    "    try:\n",
    "        duplicate_user = User(username=\"John\", role=\"visitor\", email=\"john@example.com\", password=\"password\")\n",
    "        db.session.add(duplicate_user)\n",
    "        db.session.commit()\n",
    "    except Exception as e:\n",
    "        print(f\"Error: {e}\")"
   ]
  },
  {
   "cell_type": "code",
   "execution_count": 9,
   "metadata": {},
   "outputs": [
    {
     "name": "stdout",
     "output_type": "stream",
     "text": [
      "RuntimeError: Working outside of application context.\n",
      "\n",
      "This typically means that you attempted to use functionality that needed\n",
      "the current application. To solve this, set up an application context\n",
      "with app.app_context(). See the documentation for more information.\n"
     ]
    }
   ],
   "source": [
    "# Let's attempt to create a user outside of the application context\n",
    "try:\n",
    "    user = User.query.filter_by(username=\"John\").first()\n",
    "    if not user:\n",
    "        user = User(username=\"John\", role=\"visitor\", email=\"john@example.com\", password=\"password\")\n",
    "        db.session.add(user)\n",
    "        db.session.commit()\n",
    "        db.session.refresh(user)\n",
    "    print(\"Visitor user created successfully.\")\n",
    "except RuntimeError as e:\n",
    "    print(f\"RuntimeError: {e}\")"
   ]
  },
  {
   "cell_type": "code",
   "execution_count": 10,
   "metadata": {},
   "outputs": [
    {
     "name": "stdout",
     "output_type": "stream",
     "text": [
      "Visitor user created successfully.\n"
     ]
    }
   ],
   "source": [
    "# Let's create our second user if not already created\n",
    "with app.app_context():\n",
    "    user = User.query.filter_by(username=\"Evan\").first()\n",
    "    if not user:\n",
    "        user = User(username=\"Evan\", role=\"visitor\", email=\"evan@example.com\")\n",
    "        db.session.add(user)\n",
    "        db.session.commit()\n",
    "        db.session.refresh(user)\n",
    "    print(\"Visitor user created successfully.\")"
   ]
  },
  {
   "cell_type": "code",
   "execution_count": 11,
   "metadata": {},
   "outputs": [
    {
     "name": "stdout",
     "output_type": "stream",
     "text": [
      "Skills added successfully.\n"
     ]
    }
   ],
   "source": [
    "# Let's add some skills to the user\n",
    "with app.app_context():\n",
    "    user = User.query.filter_by(username=\"Lidao\").first()\n",
    "    if user and user.is_admin():\n",
    "        skill1 = Skill(user_id=user.user_id, skill_name=\"Python\", proficiency_level=\"Intermediate\", category=\"Technical Skills\")\n",
    "        skill2 = Skill(user_id=user.user_id, skill_name=\"Flask\", proficiency_level=\"Intermediate\", category=\"Technical Skills\")\n",
    "        skill3 = Skill(user_id=user.user_id, skill_name=\"CSS\", proficiency_level=\"Advanced\", category=\"Technical Skills\")\n",
    "        skill4 = Skill(user_id=user.user_id, skill_name=\"HTML\", proficiency_level=\"Advanced\", category=\"Technical Skills\")\n",
    "        db.session.add(skill1)\n",
    "        db.session.add(skill2)\n",
    "        db.session.add(skill3)\n",
    "        db.session.add(skill4)\n",
    "        db.session.commit()\n",
    "        print(\"Skills added successfully.\")\n",
    "    else:\n",
    "        print(\"User is not an admin or does not exist. Skill addition is not allowed.\")"
   ]
  },
  {
   "cell_type": "code",
   "execution_count": 12,
   "metadata": {},
   "outputs": [
    {
     "name": "stdout",
     "output_type": "stream",
     "text": [
      "user_id 1 has <Skill Python> skill with Intermediate proficiency level\n",
      "user_id 1 has <Skill Flask> skill with Intermediate proficiency level\n",
      "user_id 1 has <Skill CSS> skill with Advanced proficiency level\n",
      "user_id 1 has <Skill HTML> skill with Advanced proficiency level\n"
     ]
    }
   ],
   "source": [
    "# Let's check the skills are well created\n",
    "with app.app_context():\n",
    "    skills = Skill.query.all()\n",
    "    for skill in skills:\n",
    "        print(skill)"
   ]
  },
  {
   "cell_type": "code",
   "execution_count": 13,
   "metadata": {},
   "outputs": [
    {
     "name": "stdout",
     "output_type": "stream",
     "text": [
      "External users created successfully.\n"
     ]
    }
   ],
   "source": [
    "# Let's create our first two External users if not already created\n",
    "with app.app_context():\n",
    "    external_user1 = ExternalUser.query.filter_by(email=\"jane@example\").first()\n",
    "    if not external_user1:\n",
    "        external_user1 = ExternalUser(first_name=\"Jane\", email=\"jane@example.com\", platform=\"LinkedIn\")\n",
    "        db.session.add(external_user1)\n",
    "    \n",
    "    external_user2 = ExternalUser.query.filter_by(email=\"max@example.com\").first()\n",
    "    if not external_user2:\n",
    "        external_user2 = ExternalUser(first_name=\"Max\", email=\"max@example.com\", platform=\"Twitter\")\n",
    "        db.session.add(external_user2)\n",
    "\n",
    "    db.session.commit()\n",
    "    db.session.refresh(external_user1)\n",
    "    db.session.refresh(external_user2)\n",
    "\n",
    "    print(\"External users created successfully.\")"
   ]
  },
  {
   "cell_type": "code",
   "execution_count": 14,
   "metadata": {},
   "outputs": [
    {
     "name": "stdout",
     "output_type": "stream",
     "text": [
      "Experiences added successfully.\n"
     ]
    }
   ],
   "source": [
    "# Let's add some experiences to the user\n",
    "with app.app_context():\n",
    "    user = User.query.filter_by(username=\"Lidao\").first()\n",
    "    if user and user.is_admin():\n",
    "        experience1 = Experience(user_id=user.user_id, position=\"Software Engineer\", company=\"Google\", start_date=datetime(2018, 1, 1), end_date=datetime(2020, 12, 1), description=\"Worked on the Google Search Engine.\")\n",
    "        experience2 = Experience(user_id=user.user_id, position=\"Software Engineer\", company=\"Facebook\", start_date=datetime(2021, 1, 1), end_date=datetime(2024, 1, 1), description=\"Worked on the Facebook Social Media Platform.\")\n",
    "        db.session.add(experience1)\n",
    "        db.session.add(experience2)\n",
    "        db.session.commit()\n",
    "        print(\"Experiences added successfully.\")\n",
    "    else:\n",
    "        print(\"User is not an admin or does not exist. Experience addition is not allowed.\")"
   ]
  },
  {
   "cell_type": "code",
   "execution_count": 15,
   "metadata": {},
   "outputs": [
    {
     "name": "stdout",
     "output_type": "stream",
     "text": [
      "Testimonial created successfully.\n"
     ]
    }
   ],
   "source": [
    "# Let's make sure the external user and user/admin exist\n",
    "with app.app_context():\n",
    "    external_user = ExternalUser.query.filter_by(email=\"stacy@example.com\").first()\n",
    "    if not external_user:\n",
    "        external_user = ExternalUser(first_name=\"Stacy\", email=\"stacy@example.com\", platform=\"Twitter\")\n",
    "        db.session.add(external_user)\n",
    "        db.session.commit()\n",
    "        db.session.refresh(external_user)\n",
    "\n",
    "    user = User.query.filter_by(username=\"Lidao\").first()\n",
    "    if not user:\n",
    "        user = User(username=\"Lidao\", role=\"admin\", email=\"rodrigue.betema@gmail.com\")\n",
    "        db.session.add(user)\n",
    "        db.session.commit()\n",
    "        db.session.refresh(user)\n",
    "\n",
    "    # Let's now create a testimonial from the external user to the user/admin\n",
    "    testimonial = Testimonial(\n",
    "        external_user_id=external_user.external_user_id,\n",
    "        user_id=user.user_id,\n",
    "        content=\"Working with Lidao has been a great experience!\",\n",
    "        author_name=external_user.first_name,\n",
    "        platform=external_user.platform,\n",
    "        is_responded=False\n",
    "    )\n",
    "    db.session.add(testimonial)\n",
    "    db.session.commit()\n",
    "    db.session.refresh(testimonial)\n",
    "\n",
    "    print(\"Testimonial created successfully.\")"
   ]
  },
  {
   "cell_type": "code",
   "execution_count": 16,
   "metadata": {},
   "outputs": [
    {
     "name": "stdout",
     "output_type": "stream",
     "text": [
      "Testimonial created successfully.\n"
     ]
    }
   ],
   "source": [
    "# Let's make sure the external user and user/admin exist\n",
    "with app.app_context():\n",
    "    external_user = ExternalUser.query.filter_by(email=\"marco@example.com\").first()\n",
    "    if not external_user:\n",
    "        external_user = ExternalUser(first_name=\"Marco\", email=\"marco@example.com\", platform=\"LinkedIn\")\n",
    "        db.session.add(external_user)\n",
    "        db.session.commit()\n",
    "        db.session.refresh(external_user)\n",
    "\n",
    "    user = User.query.filter_by(username=\"Lidao\").first()\n",
    "    if not user:\n",
    "        user = User(username=\"Lidao\", role=\"admin\", email=\"rodrigue.betema@gmail.com\")\n",
    "        db.session.add(user)\n",
    "        db.session.commit()\n",
    "        db.session.refresh(user)\n",
    "\n",
    "    # Let's now create a testimonial from the external user to the user/admin\n",
    "    testimonial = Testimonial(\n",
    "        external_user_id=external_user.external_user_id,\n",
    "        user_id=user.user_id,\n",
    "        content=\"Lidao delivered the project on time and within budget!\",\n",
    "        author_name=external_user.first_name,\n",
    "        platform=external_user.platform,\n",
    "        is_responded=False\n",
    "    )\n",
    "    db.session.add(testimonial)\n",
    "    db.session.commit()\n",
    "    db.session.refresh(testimonial)\n",
    "\n",
    "    print(\"Testimonial created successfully.\")"
   ]
  },
  {
   "cell_type": "code",
   "execution_count": 17,
   "metadata": {},
   "outputs": [
    {
     "name": "stdout",
     "output_type": "stream",
     "text": [
      "Testimonial created successfully.\n"
     ]
    }
   ],
   "source": [
    "# Let's make sure the external user and user/admin exist\n",
    "with app.app_context():\n",
    "    external_user = ExternalUser.query.filter_by(email=\"jane@example.com\").first()\n",
    "    if not external_user:\n",
    "        external_user = ExternalUser(first_name=\"Jane\", email=\"jane@example.com\", platform=\"LinkedIn\")\n",
    "        db.session.add(external_user)\n",
    "        db.session.commit()\n",
    "        db.session.refresh(external_user)\n",
    "\n",
    "    user = User.query.filter_by(username=\"Lidao\").first()\n",
    "    if not user:\n",
    "        user = User(username=\"Lidao\", role=\"admin\", email=\"rodrigue.betema@gmail.com\")\n",
    "        db.session.add(user)\n",
    "        db.session.commit()\n",
    "        db.session.refresh(user)\n",
    "\n",
    "    # Let's now create a testimonial from the external user to the user/admin\n",
    "    testimonial = Testimonial(\n",
    "        external_user_id=external_user.external_user_id,\n",
    "        user_id=user.user_id,\n",
    "        content=\"Lidao is very cooperative and inovative!\",\n",
    "        author_name=external_user.first_name,\n",
    "        platform=external_user.platform,\n",
    "        is_responded=True\n",
    "    )\n",
    "    db.session.add(testimonial)\n",
    "    db.session.commit()\n",
    "    db.session.refresh(testimonial)\n",
    "\n",
    "    print(\"Testimonial created successfully.\")"
   ]
  },
  {
   "cell_type": "code",
   "execution_count": 18,
   "metadata": {},
   "outputs": [
    {
     "name": "stdout",
     "output_type": "stream",
     "text": [
      "Contact message created successfully.\n"
     ]
    }
   ],
   "source": [
    "# Let's make sure the external user and user/admin exist\n",
    "with app.app_context():\n",
    "    external_user = ExternalUser.query.filter_by(email=\"max@example.com\").first()\n",
    "    if not external_user:\n",
    "        external_user = ExternalUser(first_name=\"Max\", email=\"max@example.com\", platform=\"Twitter\")\n",
    "        db.session.add(external_user)\n",
    "        db.session.commit()\n",
    "        db.session.refresh(external_user)\n",
    "    \n",
    "    user = User.query.filter_by(username=\"Mike\").first()\n",
    "    if not user:\n",
    "        user = User(username=\"Mike\", role=\"admin\", email=\"mike@example.com\", password=\"password\")\n",
    "        db.session.add(user)\n",
    "        db.session.commit()\n",
    "        db.session.refresh(user)\n",
    "    \n",
    "    # Let's now create a testimonial from the external user to the user/admin\n",
    "    contact_message = ContactMessage(\n",
    "        external_user_id=external_user.external_user_id,\n",
    "        user_id=user.user_id,\n",
    "        name=external_user.first_name,\n",
    "        email=external_user.email,\n",
    "        platform=external_user.platform,\n",
    "        message=\"I would like to work with you on a project.\"\n",
    "    )\n",
    "    db.session.add(contact_message)\n",
    "    db.session.commit()\n",
    "    db.session.refresh(contact_message)\n",
    "\n",
    "    print(\"Contact message created successfully.\")"
   ]
  },
  {
   "cell_type": "code",
   "execution_count": 19,
   "metadata": {},
   "outputs": [
    {
     "name": "stdout",
     "output_type": "stream",
     "text": [
      "Contact message and message thread created successfully.\n"
     ]
    }
   ],
   "source": [
    "# Let's make sure the external user and user/admin exist\n",
    "with app.app_context():\n",
    "    external_user = ExternalUser.query.filter_by(email=\"cynthia@example.com\").first()\n",
    "    if not external_user:\n",
    "        external_user = ExternalUser(first_name=\"Cynthia\", email=\"cynthia@example.com\", platform=\"LinkedIn\")\n",
    "        db.session.add(external_user)\n",
    "        db.session.commit()\n",
    "        db.session.refresh(external_user)\n",
    "    \n",
    "    user = User.query.filter_by(username=\"Lidao\").first()\n",
    "    if not user:\n",
    "        user = User(username=\"Lidao\", role=\"admin\", email=\"rodrigue.betema@gmail.com\")\n",
    "        db.session.add(user)\n",
    "        db.session.commit()\n",
    "        db.session.refresh(user)\n",
    "    \n",
    "    # Let's create a contact message from the external user to the user/admin\n",
    "    contact_message = ContactMessage(\n",
    "        external_user_id=external_user.external_user_id,\n",
    "        user_id=user.user_id,\n",
    "        name=external_user.first_name,\n",
    "        email=external_user.email,\n",
    "        platform=external_user.platform,\n",
    "        message=\"Hello Lidao, I am Cynthia from Apple. I would like to connect with you for a potential collaboration on a project. Let me know your availability for a call.\"\n",
    "    )\n",
    "    db.session.add(contact_message)\n",
    "    db.session.commit()\n",
    "    db.session.refresh(contact_message)\n",
    "\n",
    "    # Let's create a message thread between the user and the external user\n",
    "    message_thread = MessageThread(\n",
    "        message_id=contact_message.message_id,\n",
    "        reply_id=contact_message.message_id  # Assuming the reply is to the same message for simplicity\n",
    "    )\n",
    "    db.session.add(message_thread)\n",
    "    db.session.commit()\n",
    "    db.session.refresh(message_thread)\n",
    "\n",
    "    print(\"Contact message and message thread created successfully.\")"
   ]
  },
  {
   "cell_type": "code",
   "execution_count": 20,
   "metadata": {},
   "outputs": [
    {
     "name": "stdout",
     "output_type": "stream",
     "text": [
      "Contact message and message thread created successfully.\n"
     ]
    }
   ],
   "source": [
    "# Let's make sure the external user and user/admin exist\n",
    "with app.app_context():\n",
    "    external_user = ExternalUser.query.filter_by(email=\"salima@example.com\").first()\n",
    "    if not external_user:\n",
    "        external_user = ExternalUser(first_name=\"Salima\", email=\"salima@example.com\", platform=\"Twitter\")\n",
    "        db.session.add(external_user)\n",
    "        db.session.commit()\n",
    "        db.session.refresh(external_user)\n",
    "    \n",
    "    user = User.query.filter_by(username=\"Lidao\").first()\n",
    "    if not user:\n",
    "        user = User(username=\"Lidao\", role=\"admin\", email=\"rodrigue.betema@gmail.com\")\n",
    "        db.session.add(user)\n",
    "        db.session.commit()\n",
    "        db.session.refresh(user)\n",
    "    \n",
    "    # Let's create a contact message from the external user to the user/admin\n",
    "    contact_message = ContactMessage(\n",
    "        external_user_id=external_user.external_user_id,\n",
    "        user_id=user.user_id,\n",
    "        name=external_user.first_name,\n",
    "        email=external_user.email,\n",
    "        platform=external_user.platform,\n",
    "        message=\"Hello Lidao, I am Salima from X. I would like to connect with you for a potential collaboration on a project. Let me know your availability for a call.\"\n",
    "    )\n",
    "    db.session.add(contact_message)\n",
    "    db.session.commit()\n",
    "    db.session.refresh(contact_message)\n",
    "\n",
    "    # Let's create a message thread between the user and the external user\n",
    "    message_thread = MessageThread(\n",
    "        message_id=contact_message.message_id,\n",
    "        reply_id=contact_message.message_id  # Assuming the reply is to the same message for simplicity\n",
    "    )\n",
    "    db.session.add(message_thread)\n",
    "    db.session.commit()\n",
    "    db.session.refresh(message_thread)\n",
    "\n",
    "    print(\"Contact message and message thread created successfully.\")"
   ]
  },
  {
   "cell_type": "code",
   "execution_count": 21,
   "metadata": {},
   "outputs": [
    {
     "name": "stdout",
     "output_type": "stream",
     "text": [
      "Contact message and message thread created successfully.\n"
     ]
    }
   ],
   "source": [
    "# Let's make sure the external user and user/admin exist\n",
    "with app.app_context():\n",
    "    external_user = ExternalUser.query.filter_by(email=\"dorottya@example.com\").first()\n",
    "    if not external_user:\n",
    "        external_user = ExternalUser(first_name=\"Dorottya\", email=\"dorottya@example.com\", platform=\"LinkedIn\")\n",
    "        db.session.add(external_user)\n",
    "        db.session.commit()\n",
    "        db.session.refresh(external_user)\n",
    "    \n",
    "    user = User.query.filter_by(username=\"Lidao\").first()\n",
    "    if not user:\n",
    "        user = User(username=\"Lidao\", role=\"admin\", email=\"rodrigue.betema@gmail.com\")\n",
    "        db.session.add(user)\n",
    "        db.session.commit()\n",
    "        db.session.refresh(user)\n",
    "    \n",
    "    # Let's create a contact message from the external user to the user/admin\n",
    "    contact_message = ContactMessage(\n",
    "        external_user_id=external_user.external_user_id,\n",
    "        user_id=user.user_id,\n",
    "        name=external_user.first_name,\n",
    "        email=external_user.email,\n",
    "        platform=external_user.platform,\n",
    "        message=\"Hello Lidao, I am Dorottya from Workday. I would like to connect with you for a potential referral on a project. Let me know your availability for a call.\"\n",
    "    )\n",
    "    db.session.add(contact_message)\n",
    "    db.session.commit()\n",
    "    db.session.refresh(contact_message)\n",
    "\n",
    "    # Let's create a message thread between the user and the external user\n",
    "    message_thread = MessageThread(\n",
    "        message_id=contact_message.message_id,\n",
    "        reply_id=contact_message.message_id  # Assuming the reply is to the same message for simplicity\n",
    "    )\n",
    "    db.session.add(message_thread)\n",
    "    db.session.commit()\n",
    "    db.session.refresh(message_thread)\n",
    "\n",
    "    print(\"Contact message and message thread created successfully.\")"
   ]
  },
  {
   "cell_type": "code",
   "execution_count": 22,
   "metadata": {},
   "outputs": [
    {
     "name": "stdout",
     "output_type": "stream",
     "text": [
      "Contact message and message thread created successfully.\n"
     ]
    }
   ],
   "source": [
    "# Let's make sure the external user and user/admin exist\n",
    "with app.app_context():\n",
    "    external_user = ExternalUser.query.filter_by(email=\"solim@example.com\").first()\n",
    "    if not external_user:\n",
    "        external_user = ExternalUser(first_name=\"Solim\", email=\"solim@example.com\", platform=\"LinkedIn\")\n",
    "        db.session.add(external_user)\n",
    "        db.session.commit()\n",
    "        db.session.refresh(external_user)\n",
    "    \n",
    "    user = User.query.filter_by(username=\"Lidao\").first()\n",
    "    if not user:\n",
    "        user = User(username=\"Lidao\", role=\"admin\", email=\"rodrigue.betema@gmail.com\")\n",
    "        db.session.add(user)\n",
    "        db.session.commit()\n",
    "        db.session.refresh(user)\n",
    "    \n",
    "    # Let's create a contact message from the external user to the user/admin\n",
    "    contact_message = ContactMessage(\n",
    "        external_user_id=external_user.external_user_id,\n",
    "        user_id=user.user_id,\n",
    "        name=external_user.first_name,\n",
    "        email=external_user.email,\n",
    "        platform=external_user.platform,\n",
    "        message=\"Hello Lidao, I am Solim from Workday. I would like to connect with you for a potential referral on a project. Let me know your availability for a call.\"\n",
    "    )\n",
    "    db.session.add(contact_message)\n",
    "    db.session.commit()\n",
    "    db.session.refresh(contact_message)\n",
    "\n",
    "    # Let's create a message thread between the user and the external user\n",
    "    message_thread = MessageThread(\n",
    "        message_id=contact_message.message_id,\n",
    "        reply_id=contact_message.message_id  # Assuming the reply is to the same message for simplicity\n",
    "    )\n",
    "    db.session.add(message_thread)\n",
    "    db.session.commit()\n",
    "    db.session.refresh(message_thread)\n",
    "\n",
    "    print(\"Contact message and message thread created successfully.\")"
   ]
  },
  {
   "cell_type": "code",
   "execution_count": 23,
   "metadata": {},
   "outputs": [
    {
     "name": "stdout",
     "output_type": "stream",
     "text": [
      "Contact message and message thread created successfully.\n"
     ]
    }
   ],
   "source": [
    "# Let's make sure the external user and user/admin exist\n",
    "with app.app_context():\n",
    "    external_user = ExternalUser.query.filter_by(email=\"roland@example.com\").first()\n",
    "    if not external_user:\n",
    "        external_user = ExternalUser(first_name=\"Roland\", email=\"roland@example.com\", platform=\"LinkedIn\")\n",
    "        db.session.add(external_user)\n",
    "        db.session.commit()\n",
    "        db.session.refresh(external_user)\n",
    "    \n",
    "    user = User.query.filter_by(username=\"Lidao\").first()\n",
    "    if not user:\n",
    "        user = User(username=\"Lidao\", role=\"admin\", email=\"rodrigue.betema@gmail.com\")\n",
    "        db.session.add(user)\n",
    "        db.session.commit()\n",
    "        db.session.refresh(user)\n",
    "    \n",
    "    # Let's create a contact message from the external user to the user/admin\n",
    "    contact_message = ContactMessage(\n",
    "        external_user_id=external_user.external_user_id,\n",
    "        user_id=user.user_id,\n",
    "        name=external_user.first_name,\n",
    "        email=external_user.email,\n",
    "        platform=external_user.platform,\n",
    "        message=\"Hello Lidao, I am Roland from GE. I would like to connect with you for a potential referral on a project. Let me know your availability for a call.\"\n",
    "    )\n",
    "    db.session.add(contact_message)\n",
    "    db.session.commit()\n",
    "    db.session.refresh(contact_message)\n",
    "\n",
    "    # Let's create a message thread between the user and the external user\n",
    "    message_thread = MessageThread(\n",
    "        message_id=contact_message.message_id,\n",
    "        reply_id=contact_message.message_id  # Assuming the reply is to the same message for simplicity\n",
    "    )\n",
    "    db.session.add(message_thread)\n",
    "    db.session.commit()\n",
    "    db.session.refresh(message_thread)\n",
    "\n",
    "    print(\"Contact message and message thread created successfully.\")"
   ]
  }
 ],
 "metadata": {
  "kernelspec": {
   "display_name": "venv",
   "language": "python",
   "name": "python3"
  },
  "language_info": {
   "codemirror_mode": {
    "name": "ipython",
    "version": 3
   },
   "file_extension": ".py",
   "mimetype": "text/x-python",
   "name": "python",
   "nbconvert_exporter": "python",
   "pygments_lexer": "ipython3",
   "version": "3.13.0"
  }
 },
 "nbformat": 4,
 "nbformat_minor": 2
}
